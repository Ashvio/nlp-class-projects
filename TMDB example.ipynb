{
 "cells": [
  {
   "cell_type": "raw",
   "metadata": {},
   "source": []
  },
  {
   "cell_type": "code",
   "execution_count": 2,
   "metadata": {
    "collapsed": false
   },
   "outputs": [],
   "source": [
    "# https://github.com/o19s/relevant-search-book/blob/master/ipython/Chapter%203%20(Solving%20Your%20First%20Relevance%20Problem).ipynb\n",
    "import json\n",
    "import pysolr"
   ]
  },
  {
   "cell_type": "code",
   "execution_count": 3,
   "metadata": {
    "collapsed": true
   },
   "outputs": [],
   "source": [
    "\n",
    "# Some utilities for flattening the explain into something a bit more\n",
    "# readable. Pass Explain JSON, get something readable (ironically this is what Solr's default output is :-p)\n",
    "def flatten(l):\n",
    "    [item for sublist in l for item in sublist]\n",
    "\n",
    "def simplerExplain(explainJson, depth=0):\n",
    "    result = \" \" * (depth * 2) + \"%s, %s\\n\" % (explainJson['value'], explainJson['description'])\n",
    "    #print json.dumps(explainJson, indent=True)\n",
    "    if 'details' in explainJson:\n",
    "        for detail in explainJson['details']:\n",
    "            result += simplerExplain(detail, depth=depth+1)\n",
    "    return result\n",
    "def extract():\n",
    "    f = open('tmdb.json')\n",
    "    if f:\n",
    "         return json.loads(f.read());        \n",
    "    return {}"
   ]
  },
  {
   "cell_type": "code",
   "execution_count": 4,
   "metadata": {
    "collapsed": false
   },
   "outputs": [],
   "source": [
    "solr_host = 'http://localhost:8983/solr/tmdb2/'\n",
    "solr = pysolr.Solr(solr_host, timeout=60)\n",
    "\n",
    "def reindex(analysisSettings={}, mappingSettings={}, movieDict={}):\n",
    "\n",
    "    bulkMovies = []\n",
    "    for _, movie in movieDict.items(): \n",
    "#         print(movie)\n",
    "        bulkMovies.append(movie)\n",
    "        \n",
    "    print(\"Indexing\")\n",
    "    solr.add(bulkMovies)\n",
    "    "
   ]
  },
  {
   "cell_type": "code",
   "execution_count": 5,
   "metadata": {
    "collapsed": false
   },
   "outputs": [
    {
     "name": "stdout",
     "output_type": "stream",
     "text": [
      "Indexing\n"
     ]
    }
   ],
   "source": [
    "#Index Data\n",
    "movieDict = extract()\n",
    "reindex(movieDict=movieDict)"
   ]
  },
  {
   "cell_type": "code",
   "execution_count": 6,
   "metadata": {
    "collapsed": false
   },
   "outputs": [
    {
     "name": "stdout",
     "output_type": "stream",
     "text": [
      "{'poster_path': ['/4g7YYjVrSvJPxHztuDOqIjQACB2.jpg'], 'production_countries': [\"{'iso_3166_1': 'US', 'name': 'United States of America'}\"], 'revenue': [0], 'overview': ['The Minions fight over a delicious banana.. but is that all they want?!'], 'video': [False], 'id': '54551', 'genres': [\"{'id': 16, 'name': 'Animation'}\", \"{'id': 35, 'name': 'Comedy'}\", \"{'id': 10751, 'name': 'Family'}\"], 'title': ['Despicable Me: Banana'], 'vote_count': [77], 'original_language': ['en'], 'status': ['Released'], 'spoken_languages': [\"{'iso_639_1': 'en', 'name': 'English'}\"], 'imdb_id': ['tt1814643'], 'adult': [False], 'backdrop_path': ['/jwYLfJtbEvABmV9FuC3RRoxiTCI.jpg'], 'production_companies': [\"{'name': 'Illumination Entertainment', 'id': 6704}\", \"{'name': 'Universal Pictures', 'id': 33}\"], 'release_date': ['2010-12-13T00:00:00Z'], 'popularity': [0.532817410488774], 'original_title': ['Despicable Me: Banana'], 'budget': [0], 'cast': [\"{'name': 'Pierre Coffin', 'character': 'Minions (various)', 'id': 124747, 'credit_id': '52fe48a2c3a36847f8171b0b', 'cast_id': 1, 'profile_path': '/enSQNAwRSDPq9M9VZ1yjDwKWbev.jpg', 'order': 0}\"], 'directors': [\"{'name': 'Kyle Balda', 'department': 'Directing', 'job': 'Director', 'credit_id': '52fe48a2c3a36847f8171b11', 'profile_path': None, 'id': 8023}\", \"{'name': 'Samuel Tourneux', 'department': 'Directing', 'job': 'Director', 'credit_id': '52fe48a2c3a36847f8171b17', 'profile_path': None, 'id': 220833}\"], 'vote_average': [7.4], 'runtime': [4], '_version_': 1623146184584462338}\n",
      "\n",
      "\n"
     ]
    }
   ],
   "source": [
    "# Search data\n",
    "\n",
    "\n",
    "\n",
    "# Basic query\n",
    "\n",
    "results = solr.search(\"Banana\")\n",
    "for result in results:\n",
    "    print(result)\n",
    "    \n",
    "print('\\n')\n",
    "# Search by field\n",
    "results = solr.search(\"Banana\", **{'defType':'dismax', 'qf':'title^10'})\n",
    "for result in results:\n",
    "    print(result)"
   ]
  },
  {
   "cell_type": "code",
   "execution_count": null,
   "metadata": {
    "collapsed": true
   },
   "outputs": [],
   "source": []
  }
 ],
 "metadata": {
  "kernelspec": {
   "display_name": "Python 3",
   "language": "python",
   "name": "python3"
  },
  "language_info": {
   "codemirror_mode": {
    "name": "ipython",
    "version": 3
   },
   "file_extension": ".py",
   "mimetype": "text/x-python",
   "name": "python",
   "nbconvert_exporter": "python",
   "pygments_lexer": "ipython3",
   "version": "3.6.0"
  }
 },
 "nbformat": 4,
 "nbformat_minor": 2
}
